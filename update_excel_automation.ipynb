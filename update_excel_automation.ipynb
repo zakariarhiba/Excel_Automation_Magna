{
 "cells": [
  {
   "cell_type": "code",
   "execution_count": 1,
   "id": "58b6eea0",
   "metadata": {},
   "outputs": [],
   "source": [
    "import pandas as pd\n",
    "import numpy as np\n",
    "import gc"
   ]
  },
  {
   "cell_type": "code",
   "execution_count": 2,
   "id": "9fdd0407",
   "metadata": {},
   "outputs": [
    {
     "data": {
      "text/plain": [
       "0"
      ]
     },
     "execution_count": 2,
     "metadata": {},
     "output_type": "execute_result"
    }
   ],
   "source": [
    "gc.collect()"
   ]
  },
  {
   "cell_type": "markdown",
   "id": "82fdde2f",
   "metadata": {},
   "source": [
    "### Read the Input CSV files"
   ]
  },
  {
   "cell_type": "code",
   "execution_count": 3,
   "id": "0edf447d",
   "metadata": {},
   "outputs": [],
   "source": [
    "DiaP = pd.read_csv(\".\\csv_files\\DiaP.csv\",low_memory=False,dtype=str,encoding=\"unicode_escape\",skiprows=3,header= 0)"
   ]
  },
  {
   "cell_type": "code",
   "execution_count": 4,
   "id": "4c90c2b3",
   "metadata": {},
   "outputs": [],
   "source": [
    "DiaE = pd.read_csv(\".\\csv_files\\DiaE.csv\",low_memory=False,dtype=str,encoding=\"unicode_escape\",skiprows=3,header= 0)"
   ]
  },
  {
   "cell_type": "code",
   "execution_count": 5,
   "id": "68afd62d",
   "metadata": {},
   "outputs": [],
   "source": [
    "Export = pd.read_csv(\".\\csv_files\\Export.csv\",low_memory=False,dtype=str,encoding=\"unicode_escape\")"
   ]
  },
  {
   "cell_type": "markdown",
   "id": "f4024ce2",
   "metadata": {},
   "source": [
    "### Replace nan "
   ]
  },
  {
   "cell_type": "code",
   "execution_count": 6,
   "id": "ccbf7c64",
   "metadata": {},
   "outputs": [],
   "source": [
    "Export.replace(np.nan, \"\", inplace=True)\n",
    "DiaP.replace(np.nan, \"\", inplace=True)\n",
    "DiaE.replace(np.nan, \"\", inplace=True)"
   ]
  },
  {
   "cell_type": "markdown",
   "id": "f7da8c0c",
   "metadata": {},
   "source": [
    "### Initialize DiaP"
   ]
  },
  {
   "cell_type": "code",
   "execution_count": 7,
   "id": "5e840f67",
   "metadata": {},
   "outputs": [
    {
     "name": "stdout",
     "output_type": "stream",
     "text": [
      "CPU times: total: 4min\n",
      "Wall time: 5min 8s\n"
     ]
    }
   ],
   "source": [
    "%%time\n",
    "DiaP[\"ID\"] = \"\"\n",
    "for row in range(len(DiaP.index)):\n",
    "    DiaP[\"ID\"][row] = f'{DiaP[\"Teil\"][row]}{DiaP[\"Submodul\"][row]}{DiaP[\"POS\"][row]}{DiaP[\"Codebedingung\"][row]}{DiaP[\"AA\"][row]}'"
   ]
  },
  {
   "cell_type": "markdown",
   "id": "f4116382",
   "metadata": {},
   "source": [
    "### Initialize DiaE"
   ]
  },
  {
   "cell_type": "code",
   "execution_count": 8,
   "id": "6257a473",
   "metadata": {},
   "outputs": [
    {
     "name": "stdout",
     "output_type": "stream",
     "text": [
      "CPU times: total: 5min 40s\n",
      "Wall time: 5min 41s\n"
     ]
    }
   ],
   "source": [
    "%%time\n",
    "DiaE[\"ID FW\"] = \"\"\n",
    "DiaE[\"ID FS\"] = \"\"\n",
    "DiaE[\"ID FV\"] = \"\"\n",
    "for row in range(len(DiaE.index)):\n",
    "    DiaE[\"ID FW\"][row] = f'{DiaE[\"Teil\"][row]}{DiaE[\"Submodul\"][row]}{DiaE[\"POS\"][row]}{DiaE[\"Codebedingung\"][row]}{DiaE[\"FW MG\"][row]}'\n",
    "    DiaE[\"ID FS\"][row] = f'{DiaE[\"Teil\"][row]}{DiaE[\"Submodul\"][row]}{DiaE[\"POS\"][row]}{DiaE[\"Codebedingung\"][row]}{DiaE[\"FS MG\"][row]}'\n",
    "    DiaE[\"ID FV\"][row] = f'{DiaE[\"Teil\"][row]}{DiaE[\"Submodul\"][row]}{DiaE[\"POS\"][row]}{DiaE[\"Codebedingung\"][row]}{DiaE[\"FV MG\"][row]}'"
   ]
  },
  {
   "cell_type": "markdown",
   "id": "957d4a1f",
   "metadata": {},
   "source": [
    "### Initialize Export"
   ]
  },
  {
   "cell_type": "code",
   "execution_count": 9,
   "id": "94914e70",
   "metadata": {},
   "outputs": [
    {
     "name": "stdout",
     "output_type": "stream",
     "text": [
      "CPU times: total: 1min 1s\n",
      "Wall time: 1min 1s\n"
     ]
    }
   ],
   "source": [
    "%%time\n",
    "Export[\"KEM AGG\"] = \"\"\n",
    "Export[\"ID\"] = \"\"\n",
    "Export[\"KEM NEU VEW FW\"] = \"\"\n",
    "Export[\"KEM NEU VEW FS\"] = \"\"\n",
    "Export[\"KEM NEU VEW FV\"] = \"\"\n",
    "Export[\"KEM UNG\"] = \"-\"\n",
    "Export[\"PEM NEU VEW\"] = \"\"\n",
    "Export[\"PEM UNG\"] = \"\"\n",
    "Export[\"EIN\"] = \"\"\n",
    "Export[\"AUS\"] = \"\"\n",
    "Export[\"Comment\"] = \"\"\n",
    "for row in range(len(Export.index)):\n",
    "    if Export[\"KEM_kems\"][row] == Export[\"KEM_kemv\"][row]:\n",
    "        Export[\"KEM AGG\"][row] = f'{Export[\"KEM_kems\"][row]}'\n",
    "    else:\n",
    "        Export[\"KEM AGG\"][row] = f'{Export[\"KEM_kems\"][row]}{Export[\"KEM_kemv\"][row]}'\n",
    "    Export[\"ID\"][row] = f'{Export[\"Sachnummer_snrb\"][row]}{Export[\"Submodul_sollv\"][row]}{Export[\"POS_sollv\"][row]}{Export[\"Code_sollv\"][row]}{Export[\"AA_sollv\"][row]}'"
   ]
  },
  {
   "cell_type": "markdown",
   "id": "32ce6983",
   "metadata": {},
   "source": [
    "### Calculation part for Export, DiaP"
   ]
  },
  {
   "cell_type": "code",
   "execution_count": 10,
   "id": "548fc1ad",
   "metadata": {},
   "outputs": [],
   "source": [
    "temp = pd.DataFrame()\n",
    "temp[\"ID\"] = DiaP[\"ID\"]\n",
    "temp[\"PEM ab\"] = DiaP[\"PEM ab\"]\n",
    "temp[\"PEM bis\"] = DiaP[\"PEM bis\"]\n",
    "temp[\"Termin ab\"] = DiaP[\"Termin ab\"]\n",
    "temp[\"Termin bis\"] = DiaP[\"Termin bis\"]\n",
    "temp.drop_duplicates(subset=\"ID\", keep=\"last\", ignore_index=True, inplace=True)\n",
    "Export = Export.merge(temp, on=\"ID\", how=\"left\")\n",
    "Export.replace(np.nan, \"\", inplace=True)\n",
    "Export[\"PEM NEU VEW\"] = Export[\"PEM ab\"]\n",
    "Export[\"PEM UNG\"] = Export[\"PEM bis\"]\n",
    "Export[\"EIN\"] = Export[\"Termin ab\"]\n",
    "Export[\"AUS\"] = Export[\"Termin bis\"]\n",
    "del Export[\"PEM ab\"]\n",
    "del Export[\"PEM bis\"]\n",
    "del Export[\"Termin bis\"]\n",
    "del Export[\"Termin ab\"]\n",
    "del temp"
   ]
  },
  {
   "cell_type": "markdown",
   "id": "1a4029e8",
   "metadata": {},
   "source": [
    "### Calculation part for Export,DiaE"
   ]
  },
  {
   "cell_type": "markdown",
   "id": "888e252a",
   "metadata": {},
   "source": [
    "#### for fv"
   ]
  },
  {
   "cell_type": "code",
   "execution_count": 11,
   "id": "d5d2a208",
   "metadata": {},
   "outputs": [],
   "source": [
    "temp = pd.DataFrame()\n",
    "temp[\"ID\"] = DiaE[\"ID FV\"]\n",
    "temp[\"KEM ab\"] = DiaE[\"KEM ab\"]\n",
    "temp.drop_duplicates(subset=\"ID\", keep=\"first\", ignore_index=True, inplace=True)\n",
    "Export = Export.merge(temp, on=\"ID\", how=\"left\")\n",
    "Export.replace(np.nan, \"\", inplace=True)\n",
    "Export[\"KEM NEU VEW FV\"] = Export[\"KEM ab\"]\n",
    "del Export[\"KEM ab\"]\n",
    "del temp"
   ]
  },
  {
   "cell_type": "code",
   "execution_count": 12,
   "id": "4ede61d6",
   "metadata": {},
   "outputs": [],
   "source": [
    "temp = pd.DataFrame()\n",
    "temp[\"ID\"] = DiaE[\"ID FV\"]\n",
    "temp[\"KEM bis\"] = DiaE[\"KEM bis\"]\n",
    "temp.drop_duplicates(subset=\"ID\", keep=\"last\", ignore_index=True, inplace=True)\n",
    "Export = Export.merge(temp, on=\"ID\", how=\"left\")\n",
    "Export.replace(np.nan, \"\", inplace=True)\n",
    "for row in range(len(Export.index)):\n",
    "    if Export[\"KEM UNG\"][row] == \"-\":\n",
    "        Export[\"KEM UNG\"][row] = Export[\"KEM bis\"][row]\n",
    "Export[\"KEM UNG\"].replace(\"\", \"-\",inplace=True)\n",
    "del Export[\"KEM bis\"]\n",
    "del temp"
   ]
  },
  {
   "cell_type": "markdown",
   "id": "7b9f16ea",
   "metadata": {},
   "source": [
    "#### for fw"
   ]
  },
  {
   "cell_type": "code",
   "execution_count": 13,
   "id": "ef2a169d",
   "metadata": {},
   "outputs": [],
   "source": [
    "temp = pd.DataFrame()\n",
    "temp[\"ID\"] = DiaE[\"ID FW\"]\n",
    "temp[\"KEM ab\"] = DiaE[\"KEM ab\"]\n",
    "temp.drop_duplicates(subset=\"ID\", keep=\"first\", ignore_index=True, inplace=True)\n",
    "Export = Export.merge(temp, on=\"ID\", how=\"left\")\n",
    "Export.replace(np.nan, \"\", inplace=True)\n",
    "Export[\"KEM NEU VEW FW\"] = Export[\"KEM ab\"]\n",
    "del Export[\"KEM ab\"]\n",
    "del temp"
   ]
  },
  {
   "cell_type": "code",
   "execution_count": 14,
   "id": "ad3dbe0e",
   "metadata": {},
   "outputs": [],
   "source": [
    "temp = pd.DataFrame()\n",
    "temp[\"ID\"] = DiaE[\"ID FW\"]\n",
    "temp[\"KEM bis\"] = DiaE[\"KEM bis\"]\n",
    "temp.drop_duplicates(subset=\"ID\", keep=\"last\", ignore_index=True, inplace=True)\n",
    "Export = Export.merge(temp, on=\"ID\", how=\"left\")\n",
    "Export.replace(np.nan, \"\", inplace=True)\n",
    "for row in range(len(Export.index)):\n",
    "    if Export[\"KEM UNG\"][row] == \"-\":\n",
    "        Export[\"KEM UNG\"][row] = Export[\"KEM bis\"][row]\n",
    "Export[\"KEM UNG\"].replace(\"\", \"-\",inplace=True)\n",
    "del Export[\"KEM bis\"]\n",
    "del temp"
   ]
  },
  {
   "cell_type": "markdown",
   "id": "a5ac15d9",
   "metadata": {},
   "source": [
    "#### for fs"
   ]
  },
  {
   "cell_type": "code",
   "execution_count": 15,
   "id": "a793df96",
   "metadata": {},
   "outputs": [],
   "source": [
    "temp = pd.DataFrame()\n",
    "temp[\"ID\"] = DiaE[\"ID FS\"]\n",
    "temp[\"KEM ab\"] = DiaE[\"KEM ab\"]\n",
    "temp.drop_duplicates(subset=\"ID\", keep=\"first\", ignore_index=True, inplace=True)\n",
    "Export = Export.merge(temp, on=\"ID\", how=\"left\")\n",
    "Export.replace(np.nan, \"\", inplace=True)\n",
    "Export[\"KEM NEU VEW FS\"] = Export[\"KEM ab\"]\n",
    "del Export[\"KEM ab\"]\n",
    "del temp"
   ]
  },
  {
   "cell_type": "code",
   "execution_count": 16,
   "id": "65024473",
   "metadata": {},
   "outputs": [],
   "source": [
    "temp = pd.DataFrame()\n",
    "temp[\"ID\"] = DiaE[\"ID FS\"]\n",
    "temp[\"KEM bis\"] = DiaE[\"KEM bis\"]\n",
    "temp.drop_duplicates(subset=\"ID\", keep=\"last\", ignore_index=True, inplace=True)\n",
    "Export = Export.merge(temp, on=\"ID\", how=\"left\")\n",
    "Export.replace(np.nan, \"\", inplace=True)\n",
    "for row in range(len(Export.index)):\n",
    "    if Export[\"KEM UNG\"][row] == \"-\":\n",
    "        Export[\"KEM UNG\"][row] = Export[\"KEM bis\"][row]\n",
    "Export[\"KEM UNG\"].replace(\"\", \"-\",inplace=True)\n",
    "del Export[\"KEM bis\"]\n",
    "del temp"
   ]
  },
  {
   "cell_type": "markdown",
   "id": "0f6d1b5d",
   "metadata": {},
   "source": [
    "### Get the output"
   ]
  },
  {
   "cell_type": "code",
   "execution_count": 17,
   "id": "2fad0f2e",
   "metadata": {},
   "outputs": [],
   "source": [
    "Export.to_csv(\"./Export_out.csv\", index=False)"
   ]
  },
  {
   "cell_type": "code",
   "execution_count": null,
   "id": "5ce7d432",
   "metadata": {},
   "outputs": [],
   "source": []
  },
  {
   "cell_type": "code",
   "execution_count": null,
   "id": "3f48539a",
   "metadata": {},
   "outputs": [],
   "source": []
  }
 ],
 "metadata": {
  "kernelspec": {
   "display_name": "Python 3 (ipykernel)",
   "language": "python",
   "name": "python3"
  },
  "language_info": {
   "codemirror_mode": {
    "name": "ipython",
    "version": 3
   },
   "file_extension": ".py",
   "mimetype": "text/x-python",
   "name": "python",
   "nbconvert_exporter": "python",
   "pygments_lexer": "ipython3",
   "version": "3.9.11"
  }
 },
 "nbformat": 4,
 "nbformat_minor": 5
}
